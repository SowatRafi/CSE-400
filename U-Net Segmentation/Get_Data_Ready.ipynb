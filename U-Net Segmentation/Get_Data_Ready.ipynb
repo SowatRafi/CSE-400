{
 "cells": [
  {
   "cell_type": "code",
   "execution_count": 1,
   "id": "7cec326d",
   "metadata": {},
   "outputs": [],
   "source": [
    "import numpy as np\n",
    "import nibabel as nib\n",
    "import glob\n",
    "from tensorflow.keras.utils import to_categorical\n",
    "import matplotlib.pyplot as plt\n",
    "from tifffile import imsave"
   ]
  },
  {
   "cell_type": "code",
   "execution_count": 2,
   "id": "f3f21a50",
   "metadata": {},
   "outputs": [],
   "source": [
    "from sklearn.preprocessing import MinMaxScaler\n",
    "scaler = MinMaxScaler()"
   ]
  },
  {
   "cell_type": "code",
   "execution_count": 3,
   "id": "f5ff77c0",
   "metadata": {},
   "outputs": [],
   "source": [
    "TRAIN_DATASET_PATH = 'BraTS2020_TrainingData/MICCAI_BraTS2020_TrainingData/'"
   ]
  },
  {
   "cell_type": "code",
   "execution_count": 4,
   "id": "bb83cf85",
   "metadata": {
    "scrolled": true
   },
   "outputs": [
    {
     "name": "stdout",
     "output_type": "stream",
     "text": [
      "1854.603271484375\n"
     ]
    }
   ],
   "source": [
    "test_image_flair = nib.load(TRAIN_DATASET_PATH + 'BraTS20_Training_355/BraTS20_Training_355_flair.nii').get_fdata()\n",
    "print(test_image_flair.max())"
   ]
  },
  {
   "cell_type": "code",
   "execution_count": 5,
   "id": "8cd18d7e",
   "metadata": {},
   "outputs": [],
   "source": [
    "test_image_flair = scaler.fit_transform(test_image_flair.reshape(-1, test_image_flair.shape[-1])).reshape(test_image_flair.shape)"
   ]
  },
  {
   "cell_type": "code",
   "execution_count": 6,
   "id": "6d7ea6db",
   "metadata": {},
   "outputs": [],
   "source": [
    "test_image_t1 = nib.load(TRAIN_DATASET_PATH + 'BraTS20_Training_355/BraTS20_Training_355_t1.nii').get_fdata()\n",
    "test_image_t1 = scaler.fit_transform(test_image_t1.reshape(-1, test_image_t1.shape[-1])).reshape(test_image_t1.shape)\n",
    "\n",
    "test_image_t1ce = nib.load(TRAIN_DATASET_PATH + 'BraTS20_Training_355/BraTS20_Training_355_t1ce.nii').get_fdata()\n",
    "test_image_t1ce = scaler.fit_transform(test_image_t1ce.reshape(-1, test_image_t1ce.shape[-1])).reshape(test_image_t1ce.shape)\n",
    "\n",
    "test_image_t2 = nib.load(TRAIN_DATASET_PATH + 'BraTS20_Training_355/BraTS20_Training_355_t2.nii').get_fdata()\n",
    "test_image_t2 = scaler.fit_transform(test_image_t2.reshape(-1, test_image_t2.shape[-1])).reshape(test_image_t2.shape)"
   ]
  },
  {
   "cell_type": "code",
   "execution_count": 7,
   "id": "e31b3efd",
   "metadata": {},
   "outputs": [],
   "source": [
    "test_mask = nib.load(TRAIN_DATASET_PATH + 'BraTS20_Training_355/BraTS20_Training_355_seg.nii').get_fdata()\n",
    "test_mask = test_mask.astype(np.uint8)"
   ]
  },
  {
   "cell_type": "code",
   "execution_count": 8,
   "id": "3f382cbe",
   "metadata": {
    "scrolled": true
   },
   "outputs": [
    {
     "name": "stdout",
     "output_type": "stream",
     "text": [
      "[0 1 2 4]\n",
      "[0 1 2 3]\n"
     ]
    }
   ],
   "source": [
    "print(np.unique(test_mask))\n",
    "test_mask[test_mask == 4] = 3  #Reassign mask values 4 to 3\n",
    "print(np.unique(test_mask)) "
   ]
  },
  {
   "cell_type": "code",
   "execution_count": 9,
   "id": "b0908003",
   "metadata": {},
   "outputs": [],
   "source": [
    "import random\n",
    "n_slice = random.randint(0, test_mask.shape[2])"
   ]
  },
  {
   "cell_type": "code",
   "execution_count": 10,
   "id": "bbcaf818",
   "metadata": {
    "scrolled": true
   },
   "outputs": [
    {
     "data": {
      "text/plain": [
       "<Figure size 864x576 with 0 Axes>"
      ]
     },
     "execution_count": 10,
     "metadata": {},
     "output_type": "execute_result"
    },
    {
     "data": {
      "text/plain": [
       "<Figure size 864x576 with 0 Axes>"
      ]
     },
     "metadata": {},
     "output_type": "display_data"
    }
   ],
   "source": [
    "plt.figure(figsize=(12, 8))"
   ]
  },
  {
   "cell_type": "code",
   "execution_count": 11,
   "id": "c1fecc6c",
   "metadata": {},
   "outputs": [
    {
     "data": {
      "text/plain": [
       "Text(0.5, 1.0, 'Image flair')"
      ]
     },
     "execution_count": 11,
     "metadata": {},
     "output_type": "execute_result"
    },
    {
     "data": {
      "image/png": "[encoded data removed]",
      "text/plain": [
       "<Figure size 432x288 with 1 Axes>"
      ]
     },
     "metadata": {
      "needs_background": "light"
     },
     "output_type": "display_data"
    }
   ],
   "source": [
    "plt.subplot(231)\n",
    "plt.imshow(test_image_flair[:,:,n_slice], cmap='gray')\n",
    "plt.title('Image flair')"
   ]
  },
  {
   "cell_type": "code",
   "execution_count": 12,
   "id": "742aa9a0",
   "metadata": {},
   "outputs": [
    {
     "data": {
      "text/plain": [
       "Text(0.5, 1.0, 'Image t1')"
      ]
     },
     "execution_count": 12,
     "metadata": {},
     "output_type": "execute_result"
    },
    {
     "data": {
      "image/png": "[encoded data removed]",
      "text/plain": [
       "<Figure size 432x288 with 1 Axes>"
      ]
     },
     "metadata": {
      "needs_background": "light"
     },
     "output_type": "display_data"
    }
   ],
   "source": [
    "plt.subplot(232)\n",
    "plt.imshow(test_image_t1[:,:,n_slice], cmap='gray')\n",
    "plt.title('Image t1')"
   ]
  },
  {
   "cell_type": "code",
   "execution_count": 13,
   "id": "5eba367e",
   "metadata": {},
   "outputs": [
    {
     "data": {
      "text/plain": [
       "Text(0.5, 1.0, 'Image t1ce')"
      ]
     },
     "execution_count": 13,
     "metadata": {},
     "output_type": "execute_result"
    },
    {
     "data": {
      "image/png": "[encoded data removed]",
      "text/plain": [
       "<Figure size 432x288 with 1 Axes>"
      ]
     },
     "metadata": {
      "needs_background": "light"
     },
     "output_type": "display_data"
    }
   ],
   "source": [
    "plt.subplot(233)\n",
    "plt.imshow(test_image_t1ce[:,:,n_slice], cmap='gray')\n",
    "plt.title('Image t1ce')"
   ]
  },
  {
   "cell_type": "code",
   "execution_count": 14,
   "id": "77449058",
   "metadata": {},
   "outputs": [
    {
     "data": {
      "text/plain": [
       "Text(0.5, 1.0, 'Image t2')"
      ]
     },
     "execution_count": 14,
     "metadata": {},
     "output_type": "execute_result"
    },
    {
     "data": {
      "image/png": "[encoded data removed]",
      "text/plain": [
       "<Figure size 432x288 with 1 Axes>"
      ]
     },
     "metadata": {
      "needs_background": "light"
     },
     "output_type": "display_data"
    }
   ],
   "source": [
    "plt.subplot(234)\n",
    "plt.imshow(test_image_t2[:,:,n_slice], cmap='gray')\n",
    "plt.title('Image t2')"
   ]
  },
  {
   "cell_type": "code",
   "execution_count": 15,
   "id": "57711063",
   "metadata": {},
   "outputs": [
    {
     "data": {
      "image/png": "[encoded data removed]",
      "text/plain": [
       "<Figure size 432x288 with 1 Axes>"
      ]
     },
     "metadata": {
      "needs_background": "light"
     },
     "output_type": "display_data"
    }
   ],
   "source": [
    "plt.subplot(235)\n",
    "plt.imshow(test_mask[:,:,n_slice])\n",
    "plt.title('Mask')\n",
    "plt.show()"
   ]
  },
  {
   "cell_type": "code",
   "execution_count": 16,
   "id": "1cd768bf",
   "metadata": {},
   "outputs": [],
   "source": [
    "combined_x = np.stack([test_image_flair, test_image_t1ce, test_image_t2], axis=3)"
   ]
  },
  {
   "cell_type": "code",
   "execution_count": 17,
   "id": "d2a0fac8",
   "metadata": {},
   "outputs": [],
   "source": [
    "combined_x = combined_x[56:184, 56:184, 13:141] # crop to 128x128x128x4"
   ]
  },
  {
   "cell_type": "code",
   "execution_count": 18,
   "id": "5056d14a",
   "metadata": {},
   "outputs": [],
   "source": [
    "test_mask = test_mask[56: 184, 56: 184, 13: 141]"
   ]
  },
  {
   "cell_type": "code",
   "execution_count": 19,
   "id": "e79a5812",
   "metadata": {},
   "outputs": [
    {
     "data": {
      "text/plain": [
       "<Figure size 864x576 with 0 Axes>"
      ]
     },
     "execution_count": 19,
     "metadata": {},
     "output_type": "execute_result"
    },
    {
     "data": {
      "text/plain": [
       "<Figure size 864x576 with 0 Axes>"
      ]
     },
     "metadata": {},
     "output_type": "display_data"
    }
   ],
   "source": [
    "n_slice = random.randint(0, test_mask.shape[2])\n",
    "plt.figure(figsize=(12, 8))"
   ]
  },
  {
   "cell_type": "code",
   "execution_count": 20,
   "id": "3be9bd91",
   "metadata": {},
   "outputs": [
    {
     "data": {
      "text/plain": [
       "Text(0.5, 1.0, 'Image flair')"
      ]
     },
     "execution_count": 20,
     "metadata": {},
     "output_type": "execute_result"
    },
    {
     "data": {
      "image/png": "[encoded data removed]",
      "text/plain": [
       "<Figure size 432x288 with 1 Axes>"
      ]
     },
     "metadata": {
      "needs_background": "light"
     },
     "output_type": "display_data"
    }
   ],
   "source": [
    "plt.subplot(221)\n",
    "plt.imshow(combined_x[:,:,n_slice, 0], cmap='gray')\n",
    "plt.title('Image flair')"
   ]
  },
  {
   "cell_type": "code",
   "execution_count": 21,
   "id": "713ef116",
   "metadata": {},
   "outputs": [
    {
     "data": {
      "text/plain": [
       "Text(0.5, 1.0, 'Image t1ce')"
      ]
     },
     "execution_count": 21,
     "metadata": {},
     "output_type": "execute_result"
    },
    {
     "data": {
      "image/png": "[encoded data removed]",
      "text/plain": [
       "<Figure size 432x288 with 1 Axes>"
      ]
     },
     "metadata": {
      "needs_background": "light"
     },
     "output_type": "display_data"
    }
   ],
   "source": [
    "plt.subplot(222)\n",
    "plt.imshow(combined_x[:,:,n_slice, 1], cmap='gray')\n",
    "plt.title('Image t1ce')"
   ]
  },
  {
   "cell_type": "code",
   "execution_count": 22,
   "id": "8eb1a735",
   "metadata": {},
   "outputs": [
    {
     "data": {
      "text/plain": [
       "Text(0.5, 1.0, 'Image t2')"
      ]
     },
     "execution_count": 22,
     "metadata": {},
     "output_type": "execute_result"
    },
    {
     "data": {
      "image/png": "[encoded data removed]",
      "text/plain": [
       "<Figure size 432x288 with 1 Axes>"
      ]
     },
     "metadata": {
      "needs_background": "light"
     },
     "output_type": "display_data"
    }
   ],
   "source": [
    "plt.subplot(223)\n",
    "plt.imshow(combined_x[:,:,n_slice, 2], cmap='gray')\n",
    "plt.title('Image t2')"
   ]
  },
  {
   "cell_type": "code",
   "execution_count": 23,
   "id": "f8fc1d7f",
   "metadata": {},
   "outputs": [
    {
     "data": {
      "image/png": "[encoded data removed]",
      "text/plain": [
       "<Figure size 432x288 with 1 Axes>"
      ]
     },
     "metadata": {
      "needs_background": "light"
     },
     "output_type": "display_data"
    }
   ],
   "source": [
    "plt.subplot(224)\n",
    "plt.imshow(test_mask[:,:,n_slice])\n",
    "plt.title('Mask')\n",
    "plt.show()"
   ]
  },
  {
   "cell_type": "code",
   "execution_count": 24,
   "id": "400a4d55",
   "metadata": {},
   "outputs": [],
   "source": [
    "imsave('BraTS2020_TrainingData/combined255.tif', combined_x)\n",
    "np.save('BraTS2020_TrainingData/combined255.npy', combined_x)"
   ]
  },
  {
   "cell_type": "code",
   "execution_count": 25,
   "id": "f22574b5",
   "metadata": {},
   "outputs": [],
   "source": [
    "my_img = np.load('BraTS2020_TrainingData/combined255.npy')"
   ]
  },
  {
   "cell_type": "code",
   "execution_count": 26,
   "id": "fb6c6589",
   "metadata": {},
   "outputs": [],
   "source": [
    "test_mask = to_categorical(test_mask, num_classes=4)"
   ]
  },
  {
   "cell_type": "code",
   "execution_count": 27,
   "id": "df4e2630",
   "metadata": {},
   "outputs": [],
   "source": [
    "t2_list = sorted(glob.glob('BraTS2020_TrainingData/MICCAI_BraTS2020_TrainingData/*/*t2.nii'))\n",
    "t1ce_list = sorted(glob.glob('BraTS2020_TrainingData/MICCAI_BraTS2020_TrainingData/*/*t1ce.nii'))\n",
    "flair_list = sorted(glob.glob('BraTS2020_TrainingData/MICCAI_BraTS2020_TrainingData/*/*flair.nii'))\n",
    "mask_list = sorted(glob.glob('BraTS2020_TrainingData/MICCAI_BraTS2020_TrainingData/*/*seg.nii'))"
   ]
  },
  {
   "cell_type": "code",
   "execution_count": 28,
   "id": "c2b8817f",
   "metadata": {},
   "outputs": [
    {
     "name": "stdout",
     "output_type": "stream",
     "text": [
      "Now preparing image and masks number: 0\n",
      "Saving image number: 0\n",
      "Now preparing image and masks number: 1\n",
      "Saving image number: 1\n",
      "Now preparing image and masks number: 2\n",
      "Saving image number: 2\n",
      "Now preparing image and masks number: 3\n",
      "Saving image number: 3\n",
      "Now preparing image and masks number: 4\n",
      "I am useless\n",
      "Now preparing image and masks number: 5\n",
      "Saving image number: 5\n",
      "Now preparing image and masks number: 6\n",
      "Saving image number: 6\n",
      "Now preparing image and masks number: 7\n",
      "Saving image number: 7\n",
      "Now preparing image and masks number: 8\n",
      "Saving image number: 8\n",
      "Now preparing image and masks number: 9\n",
      "Saving image number: 9\n",
      "Now preparing image and masks number: 10\n",
      "Saving image number: 10\n",
      "Now preparing image and masks number: 11\n",
      "Saving image number: 11\n",
      "Now preparing image and masks number: 12\n",
      "Saving image number: 12\n",
      "Now preparing image and masks number: 13\n",
      "Saving image number: 13\n",
      "Now preparing image and masks number: 14\n",
      "Saving image number: 14\n",
      "Now preparing image and masks number: 15\n",
      "Saving image number: 15\n",
      "Now preparing image and masks number: 16\n",
      "Saving image number: 16\n",
      "Now preparing image and masks number: 17\n",
      "Saving image number: 17\n",
      "Now preparing image and masks number: 18\n",
      "Saving image number: 18\n",
      "Now preparing image and masks number: 19\n",
      "Saving image number: 19\n",
      "Now preparing image and masks number: 20\n",
      "Saving image number: 20\n",
      "Now preparing image and masks number: 21\n",
      "Saving image number: 21\n",
      "Now preparing image and masks number: 22\n",
      "Saving image number: 22\n",
      "Now preparing image and masks number: 23\n",
      "Saving image number: 23\n",
      "Now preparing image and masks number: 24\n",
      "Saving image number: 24\n",
      "Now preparing image and masks number: 25\n",
      "Saving image number: 25\n",
      "Now preparing image and masks number: 26\n",
      "Saving image number: 26\n",
      "Now preparing image and masks number: 27\n",
      "I am useless\n",
      "Now preparing image and masks number: 28\n",
      "Saving image number: 28\n",
      "Now preparing image and masks number: 29\n",
      "Saving image number: 29\n",
      "Now preparing image and masks number: 30\n",
      "Saving image number: 30\n",
      "Now preparing image and masks number: 31\n",
      "Saving image number: 31\n",
      "Now preparing image and masks number: 32\n",
      "Saving image number: 32\n",
      "Now preparing image and masks number: 33\n",
      "Saving image number: 33\n",
      "Now preparing image and masks number: 34\n",
      "Saving image number: 34\n",
      "Now preparing image and masks number: 35\n",
      "I am useless\n",
      "Now preparing image and masks number: 36\n",
      "Saving image number: 36\n",
      "Now preparing image and masks number: 37\n",
      "Saving image number: 37\n",
      "Now preparing image and masks number: 38\n",
      "Saving image number: 38\n",
      "Now preparing image and masks number: 39\n",
      "Saving image number: 39\n",
      "Now preparing image and masks number: 40\n",
      "Saving image number: 40\n",
      "Now preparing image and masks number: 41\n",
      "Saving image number: 41\n",
      "Now preparing image and masks number: 42\n",
      "Saving image number: 42\n",
      "Now preparing image and masks number: 43\n",
      "I am useless\n",
      "Now preparing image and masks number: 44\n",
      "Saving image number: 44\n",
      "Now preparing image and masks number: 45\n",
      "Saving image number: 45\n",
      "Now preparing image and masks number: 46\n",
      "Saving image number: 46\n",
      "Now preparing image and masks number: 47\n",
      "Saving image number: 47\n",
      "Now preparing image and masks number: 48\n",
      "Saving image number: 48\n",
      "Now preparing image and masks number: 49\n",
      "Saving image number: 49\n",
      "Now preparing image and masks number: 50\n",
      "Saving image number: 50\n",
      "Now preparing image and masks number: 51\n",
      "Saving image number: 51\n",
      "Now preparing image and masks number: 52\n",
      "Saving image number: 52\n",
      "Now preparing image and masks number: 53\n",
      "Saving image number: 53\n",
      "Now preparing image and masks number: 54\n",
      "Saving image number: 54\n",
      "Now preparing image and masks number: 55\n",
      "Saving image number: 55\n",
      "Now preparing image and masks number: 56\n",
      "Saving image number: 56\n",
      "Now preparing image and masks number: 57\n",
      "Saving image number: 57\n",
      "Now preparing image and masks number: 58\n",
      "Saving image number: 58\n",
      "Now preparing image and masks number: 59\n",
      "Saving image number: 59\n",
      "Now preparing image and masks number: 60\n",
      "I am useless\n",
      "Now preparing image and masks number: 61\n",
      "Saving image number: 61\n",
      "Now preparing image and masks number: 62\n",
      "I am useless\n",
      "Now preparing image and masks number: 63\n",
      "Saving image number: 63\n",
      "Now preparing image and masks number: 64\n",
      "Saving image number: 64\n",
      "Now preparing image and masks number: 65\n",
      "Saving image number: 65\n",
      "Now preparing image and masks number: 66\n",
      "Saving image number: 66\n",
      "Now preparing image and masks number: 67\n",
      "Saving image number: 67\n",
      "Now preparing image and masks number: 68\n",
      "Saving image number: 68\n",
      "Now preparing image and masks number: 69\n",
      "Saving image number: 69\n",
      "Now preparing image and masks number: 70\n",
      "Saving image number: 70\n",
      "Now preparing image and masks number: 71\n",
      "Saving image number: 71\n",
      "Now preparing image and masks number: 72\n",
      "Saving image number: 72\n",
      "Now preparing image and masks number: 73\n",
      "Saving image number: 73\n",
      "Now preparing image and masks number: 74\n",
      "Saving image number: 74\n",
      "Now preparing image and masks number: 75\n",
      "Saving image number: 75\n",
      "Now preparing image and masks number: 76\n",
      "Saving image number: 76\n",
      "Now preparing image and masks number: 77\n",
      "Saving image number: 77\n",
      "Now preparing image and masks number: 78\n",
      "I am useless\n",
      "Now preparing image and masks number: 79\n",
      "Saving image number: 79\n",
      "Now preparing image and masks number: 80\n",
      "Saving image number: 80\n",
      "Now preparing image and masks number: 81\n",
      "I am useless\n",
      "Now preparing image and masks number: 82\n",
      "Saving image number: 82\n",
      "Now preparing image and masks number: 83\n",
      "Saving image number: 83\n",
      "Now preparing image and masks number: 84\n",
      "Saving image number: 84\n",
      "Now preparing image and masks number: 85\n",
      "I am useless\n",
      "Now preparing image and masks number: 86\n",
      "Saving image number: 86\n",
      "Now preparing image and masks number: 87\n",
      "Saving image number: 87\n",
      "Now preparing image and masks number: 88\n",
      "Saving image number: 88\n",
      "Now preparing image and masks number: 89\n",
      "Saving image number: 89\n",
      "Now preparing image and masks number: 90\n",
      "Saving image number: 90\n",
      "Now preparing image and masks number: 91\n",
      "Saving image number: 91\n",
      "Now preparing image and masks number: 92\n",
      "Saving image number: 92\n",
      "Now preparing image and masks number: 93\n",
      "Saving image number: 93\n",
      "Now preparing image and masks number: 94\n",
      "Saving image number: 94\n",
      "Now preparing image and masks number: 95\n",
      "Saving image number: 95\n",
      "Now preparing image and masks number: 96\n",
      "Saving image number: 96\n",
      "Now preparing image and masks number: 97\n",
      "Saving image number: 97\n",
      "Now preparing image and masks number: 98\n",
      "I am useless\n",
      "Now preparing image and masks number: 99\n",
      "Saving image number: 99\n",
      "Now preparing image and masks number: 100\n",
      "Saving image number: 100\n",
      "Now preparing image and masks number: 101\n",
      "Saving image number: 101\n",
      "Now preparing image and masks number: 102\n",
      "Saving image number: 102\n",
      "Now preparing image and masks number: 103\n",
      "Saving image number: 103\n",
      "Now preparing image and masks number: 104\n",
      "Saving image number: 104\n",
      "Now preparing image and masks number: 105\n",
      "Saving image number: 105\n",
      "Now preparing image and masks number: 106\n",
      "Saving image number: 106\n",
      "Now preparing image and masks number: 107\n",
      "I am useless\n",
      "Now preparing image and masks number: 108\n",
      "Saving image number: 108\n",
      "Now preparing image and masks number: 109\n",
      "I am useless\n",
      "Now preparing image and masks number: 110\n",
      "Saving image number: 110\n",
      "Now preparing image and masks number: 111\n",
      "Saving image number: 111\n",
      "Now preparing image and masks number: 112\n",
      "Saving image number: 112\n",
      "Now preparing image and masks number: 113\n",
      "Saving image number: 113\n",
      "Now preparing image and masks number: 114\n",
      "Saving image number: 114\n",
      "Now preparing image and masks number: 115\n",
      "Saving image number: 115\n",
      "Now preparing image and masks number: 116\n",
      "Saving image number: 116\n",
      "Now preparing image and masks number: 117\n",
      "Saving image number: 117\n",
      "Now preparing image and masks number: 118\n",
      "Saving image number: 118\n",
      "Now preparing image and masks number: 119\n",
      "Saving image number: 119\n",
      "Now preparing image and masks number: 120\n",
      "Saving image number: 120\n",
      "Now preparing image and masks number: 121\n",
      "I am useless\n",
      "Now preparing image and masks number: 122\n",
      "Saving image number: 122\n",
      "Now preparing image and masks number: 123\n",
      "Saving image number: 123\n",
      "Now preparing image and masks number: 124\n",
      "Saving image number: 124\n",
      "Now preparing image and masks number: 125\n",
      "Saving image number: 125\n",
      "Now preparing image and masks number: 126\n",
      "Saving image number: 126\n",
      "Now preparing image and masks number: 127\n",
      "Saving image number: 127\n"
     ]
    },
    {
     "name": "stdout",
     "output_type": "stream",
     "text": [
      "Now preparing image and masks number: 128\n",
      "Saving image number: 128\n",
      "Now preparing image and masks number: 129\n",
      "Saving image number: 129\n",
      "Now preparing image and masks number: 130\n",
      "Saving image number: 130\n",
      "Now preparing image and masks number: 131\n",
      "Saving image number: 131\n",
      "Now preparing image and masks number: 132\n",
      "Saving image number: 132\n",
      "Now preparing image and masks number: 133\n",
      "Saving image number: 133\n",
      "Now preparing image and masks number: 134\n",
      "Saving image number: 134\n",
      "Now preparing image and masks number: 135\n",
      "Saving image number: 135\n",
      "Now preparing image and masks number: 136\n",
      "Saving image number: 136\n",
      "Now preparing image and masks number: 137\n",
      "Saving image number: 137\n",
      "Now preparing image and masks number: 138\n",
      "I am useless\n",
      "Now preparing image and masks number: 139\n",
      "Saving image number: 139\n",
      "Now preparing image and masks number: 140\n",
      "Saving image number: 140\n",
      "Now preparing image and masks number: 141\n",
      "I am useless\n",
      "Now preparing image and masks number: 142\n",
      "Saving image number: 142\n",
      "Now preparing image and masks number: 143\n",
      "Saving image number: 143\n",
      "Now preparing image and masks number: 144\n",
      "Saving image number: 144\n",
      "Now preparing image and masks number: 145\n",
      "Saving image number: 145\n",
      "Now preparing image and masks number: 146\n",
      "Saving image number: 146\n",
      "Now preparing image and masks number: 147\n",
      "Saving image number: 147\n",
      "Now preparing image and masks number: 148\n",
      "Saving image number: 148\n",
      "Now preparing image and masks number: 149\n",
      "Saving image number: 149\n",
      "Now preparing image and masks number: 150\n",
      "Saving image number: 150\n",
      "Now preparing image and masks number: 151\n",
      "Saving image number: 151\n",
      "Now preparing image and masks number: 152\n",
      "Saving image number: 152\n",
      "Now preparing image and masks number: 153\n",
      "Saving image number: 153\n",
      "Now preparing image and masks number: 154\n",
      "Saving image number: 154\n",
      "Now preparing image and masks number: 155\n",
      "Saving image number: 155\n",
      "Now preparing image and masks number: 156\n",
      "Saving image number: 156\n",
      "Now preparing image and masks number: 157\n",
      "Saving image number: 157\n",
      "Now preparing image and masks number: 158\n",
      "Saving image number: 158\n",
      "Now preparing image and masks number: 159\n",
      "Saving image number: 159\n",
      "Now preparing image and masks number: 160\n",
      "Saving image number: 160\n",
      "Now preparing image and masks number: 161\n",
      "Saving image number: 161\n",
      "Now preparing image and masks number: 162\n",
      "Saving image number: 162\n",
      "Now preparing image and masks number: 163\n",
      "Saving image number: 163\n",
      "Now preparing image and masks number: 164\n",
      "Saving image number: 164\n",
      "Now preparing image and masks number: 165\n",
      "Saving image number: 165\n",
      "Now preparing image and masks number: 166\n",
      "Saving image number: 166\n",
      "Now preparing image and masks number: 167\n",
      "Saving image number: 167\n",
      "Now preparing image and masks number: 168\n",
      "Saving image number: 168\n",
      "Now preparing image and masks number: 169\n",
      "Saving image number: 169\n",
      "Now preparing image and masks number: 170\n",
      "Saving image number: 170\n",
      "Now preparing image and masks number: 171\n",
      "Saving image number: 171\n",
      "Now preparing image and masks number: 172\n",
      "Saving image number: 172\n",
      "Now preparing image and masks number: 173\n",
      "Saving image number: 173\n",
      "Now preparing image and masks number: 174\n",
      "Saving image number: 174\n",
      "Now preparing image and masks number: 175\n",
      "Saving image number: 175\n",
      "Now preparing image and masks number: 176\n",
      "I am useless\n",
      "Now preparing image and masks number: 177\n",
      "Saving image number: 177\n",
      "Now preparing image and masks number: 178\n",
      "Saving image number: 178\n",
      "Now preparing image and masks number: 179\n",
      "Saving image number: 179\n",
      "Now preparing image and masks number: 180\n",
      "Saving image number: 180\n",
      "Now preparing image and masks number: 181\n",
      "Saving image number: 181\n",
      "Now preparing image and masks number: 182\n",
      "Saving image number: 182\n",
      "Now preparing image and masks number: 183\n",
      "Saving image number: 183\n",
      "Now preparing image and masks number: 184\n",
      "Saving image number: 184\n",
      "Now preparing image and masks number: 185\n",
      "Saving image number: 185\n",
      "Now preparing image and masks number: 186\n",
      "Saving image number: 186\n",
      "Now preparing image and masks number: 187\n",
      "Saving image number: 187\n",
      "Now preparing image and masks number: 188\n",
      "Saving image number: 188\n",
      "Now preparing image and masks number: 189\n",
      "Saving image number: 189\n",
      "Now preparing image and masks number: 190\n",
      "Saving image number: 190\n",
      "Now preparing image and masks number: 191\n",
      "Saving image number: 191\n",
      "Now preparing image and masks number: 192\n",
      "Saving image number: 192\n",
      "Now preparing image and masks number: 193\n",
      "Saving image number: 193\n",
      "Now preparing image and masks number: 194\n",
      "Saving image number: 194\n",
      "Now preparing image and masks number: 195\n",
      "Saving image number: 195\n",
      "Now preparing image and masks number: 196\n",
      "Saving image number: 196\n",
      "Now preparing image and masks number: 197\n",
      "Saving image number: 197\n",
      "Now preparing image and masks number: 198\n",
      "Saving image number: 198\n",
      "Now preparing image and masks number: 199\n",
      "Saving image number: 199\n",
      "Now preparing image and masks number: 200\n",
      "Saving image number: 200\n",
      "Now preparing image and masks number: 201\n",
      "Saving image number: 201\n",
      "Now preparing image and masks number: 202\n",
      "Saving image number: 202\n",
      "Now preparing image and masks number: 203\n",
      "I am useless\n",
      "Now preparing image and masks number: 204\n",
      "Saving image number: 204\n",
      "Now preparing image and masks number: 205\n",
      "Saving image number: 205\n",
      "Now preparing image and masks number: 206\n",
      "Saving image number: 206\n",
      "Now preparing image and masks number: 207\n",
      "Saving image number: 207\n",
      "Now preparing image and masks number: 208\n",
      "Saving image number: 208\n",
      "Now preparing image and masks number: 209\n",
      "Saving image number: 209\n",
      "Now preparing image and masks number: 210\n",
      "Saving image number: 210\n",
      "Now preparing image and masks number: 211\n",
      "Saving image number: 211\n",
      "Now preparing image and masks number: 212\n",
      "Saving image number: 212\n",
      "Now preparing image and masks number: 213\n",
      "Saving image number: 213\n",
      "Now preparing image and masks number: 214\n",
      "Saving image number: 214\n",
      "Now preparing image and masks number: 215\n",
      "Saving image number: 215\n",
      "Now preparing image and masks number: 216\n",
      "I am useless\n",
      "Now preparing image and masks number: 217\n",
      "Saving image number: 217\n",
      "Now preparing image and masks number: 218\n",
      "Saving image number: 218\n",
      "Now preparing image and masks number: 219\n",
      "Saving image number: 219\n",
      "Now preparing image and masks number: 220\n",
      "Saving image number: 220\n",
      "Now preparing image and masks number: 221\n",
      "Saving image number: 221\n",
      "Now preparing image and masks number: 222\n",
      "Saving image number: 222\n",
      "Now preparing image and masks number: 223\n",
      "Saving image number: 223\n",
      "Now preparing image and masks number: 224\n",
      "Saving image number: 224\n",
      "Now preparing image and masks number: 225\n",
      "Saving image number: 225\n",
      "Now preparing image and masks number: 226\n",
      "Saving image number: 226\n",
      "Now preparing image and masks number: 227\n",
      "Saving image number: 227\n",
      "Now preparing image and masks number: 228\n",
      "Saving image number: 228\n",
      "Now preparing image and masks number: 229\n",
      "Saving image number: 229\n",
      "Now preparing image and masks number: 230\n",
      "Saving image number: 230\n",
      "Now preparing image and masks number: 231\n",
      "Saving image number: 231\n",
      "Now preparing image and masks number: 232\n",
      "I am useless\n",
      "Now preparing image and masks number: 233\n",
      "Saving image number: 233\n",
      "Now preparing image and masks number: 234\n",
      "Saving image number: 234\n",
      "Now preparing image and masks number: 235\n",
      "Saving image number: 235\n",
      "Now preparing image and masks number: 236\n",
      "Saving image number: 236\n",
      "Now preparing image and masks number: 237\n",
      "Saving image number: 237\n",
      "Now preparing image and masks number: 238\n",
      "Saving image number: 238\n",
      "Now preparing image and masks number: 239\n",
      "Saving image number: 239\n",
      "Now preparing image and masks number: 240\n",
      "Saving image number: 240\n",
      "Now preparing image and masks number: 241\n",
      "Saving image number: 241\n",
      "Now preparing image and masks number: 242\n",
      "Saving image number: 242\n",
      "Now preparing image and masks number: 243\n",
      "Saving image number: 243\n",
      "Now preparing image and masks number: 244\n",
      "Saving image number: 244\n",
      "Now preparing image and masks number: 245\n",
      "Saving image number: 245\n",
      "Now preparing image and masks number: 246\n",
      "Saving image number: 246\n",
      "Now preparing image and masks number: 247\n",
      "Saving image number: 247\n",
      "Now preparing image and masks number: 248\n",
      "Saving image number: 248\n",
      "Now preparing image and masks number: 249\n",
      "Saving image number: 249\n",
      "Now preparing image and masks number: 250\n",
      "Saving image number: 250\n",
      "Now preparing image and masks number: 251\n"
     ]
    },
    {
     "name": "stdout",
     "output_type": "stream",
     "text": [
      "Saving image number: 251\n",
      "Now preparing image and masks number: 252\n",
      "Saving image number: 252\n",
      "Now preparing image and masks number: 253\n",
      "Saving image number: 253\n",
      "Now preparing image and masks number: 254\n",
      "Saving image number: 254\n",
      "Now preparing image and masks number: 255\n",
      "Saving image number: 255\n",
      "Now preparing image and masks number: 256\n",
      "Saving image number: 256\n",
      "Now preparing image and masks number: 257\n",
      "Saving image number: 257\n",
      "Now preparing image and masks number: 258\n",
      "Saving image number: 258\n",
      "Now preparing image and masks number: 259\n",
      "Saving image number: 259\n",
      "Now preparing image and masks number: 260\n",
      "Saving image number: 260\n",
      "Now preparing image and masks number: 261\n",
      "Saving image number: 261\n",
      "Now preparing image and masks number: 262\n",
      "Saving image number: 262\n",
      "Now preparing image and masks number: 263\n",
      "Saving image number: 263\n",
      "Now preparing image and masks number: 264\n",
      "Saving image number: 264\n",
      "Now preparing image and masks number: 265\n",
      "Saving image number: 265\n",
      "Now preparing image and masks number: 266\n",
      "Saving image number: 266\n",
      "Now preparing image and masks number: 267\n",
      "I am useless\n",
      "Now preparing image and masks number: 268\n",
      "Saving image number: 268\n",
      "Now preparing image and masks number: 269\n",
      "Saving image number: 269\n",
      "Now preparing image and masks number: 270\n",
      "Saving image number: 270\n",
      "Now preparing image and masks number: 271\n",
      "Saving image number: 271\n",
      "Now preparing image and masks number: 272\n",
      "Saving image number: 272\n",
      "Now preparing image and masks number: 273\n",
      "Saving image number: 273\n",
      "Now preparing image and masks number: 274\n",
      "Saving image number: 274\n",
      "Now preparing image and masks number: 275\n",
      "Saving image number: 275\n",
      "Now preparing image and masks number: 276\n",
      "I am useless\n",
      "Now preparing image and masks number: 277\n",
      "Saving image number: 277\n",
      "Now preparing image and masks number: 278\n",
      "Saving image number: 278\n",
      "Now preparing image and masks number: 279\n",
      "Saving image number: 279\n",
      "Now preparing image and masks number: 280\n",
      "Saving image number: 280\n",
      "Now preparing image and masks number: 281\n",
      "Saving image number: 281\n",
      "Now preparing image and masks number: 282\n",
      "Saving image number: 282\n",
      "Now preparing image and masks number: 283\n",
      "Saving image number: 283\n",
      "Now preparing image and masks number: 284\n",
      "Saving image number: 284\n",
      "Now preparing image and masks number: 285\n",
      "Saving image number: 285\n",
      "Now preparing image and masks number: 286\n",
      "Saving image number: 286\n",
      "Now preparing image and masks number: 287\n",
      "Saving image number: 287\n",
      "Now preparing image and masks number: 288\n",
      "Saving image number: 288\n",
      "Now preparing image and masks number: 289\n",
      "Saving image number: 289\n",
      "Now preparing image and masks number: 290\n",
      "Saving image number: 290\n",
      "Now preparing image and masks number: 291\n",
      "Saving image number: 291\n",
      "Now preparing image and masks number: 292\n",
      "Saving image number: 292\n",
      "Now preparing image and masks number: 293\n",
      "Saving image number: 293\n",
      "Now preparing image and masks number: 294\n",
      "Saving image number: 294\n",
      "Now preparing image and masks number: 295\n",
      "Saving image number: 295\n",
      "Now preparing image and masks number: 296\n",
      "Saving image number: 296\n",
      "Now preparing image and masks number: 297\n",
      "Saving image number: 297\n",
      "Now preparing image and masks number: 298\n",
      "Saving image number: 298\n",
      "Now preparing image and masks number: 299\n",
      "Saving image number: 299\n",
      "Now preparing image and masks number: 300\n",
      "Saving image number: 300\n",
      "Now preparing image and masks number: 301\n",
      "Saving image number: 301\n",
      "Now preparing image and masks number: 302\n",
      "Saving image number: 302\n",
      "Now preparing image and masks number: 303\n",
      "Saving image number: 303\n",
      "Now preparing image and masks number: 304\n",
      "Saving image number: 304\n",
      "Now preparing image and masks number: 305\n",
      "Saving image number: 305\n",
      "Now preparing image and masks number: 306\n",
      "Saving image number: 306\n",
      "Now preparing image and masks number: 307\n",
      "Saving image number: 307\n",
      "Now preparing image and masks number: 308\n",
      "Saving image number: 308\n",
      "Now preparing image and masks number: 309\n",
      "Saving image number: 309\n",
      "Now preparing image and masks number: 310\n",
      "Saving image number: 310\n",
      "Now preparing image and masks number: 311\n",
      "Saving image number: 311\n",
      "Now preparing image and masks number: 312\n",
      "Saving image number: 312\n",
      "Now preparing image and masks number: 313\n",
      "I am useless\n",
      "Now preparing image and masks number: 314\n",
      "Saving image number: 314\n",
      "Now preparing image and masks number: 315\n",
      "Saving image number: 315\n",
      "Now preparing image and masks number: 316\n",
      "I am useless\n",
      "Now preparing image and masks number: 317\n",
      "Saving image number: 317\n",
      "Now preparing image and masks number: 318\n",
      "Saving image number: 318\n",
      "Now preparing image and masks number: 319\n",
      "Saving image number: 319\n",
      "Now preparing image and masks number: 320\n",
      "Saving image number: 320\n",
      "Now preparing image and masks number: 321\n",
      "Saving image number: 321\n",
      "Now preparing image and masks number: 322\n",
      "Saving image number: 322\n",
      "Now preparing image and masks number: 323\n",
      "Saving image number: 323\n",
      "Now preparing image and masks number: 324\n",
      "I am useless\n",
      "Now preparing image and masks number: 325\n",
      "Saving image number: 325\n",
      "Now preparing image and masks number: 326\n",
      "Saving image number: 326\n",
      "Now preparing image and masks number: 327\n",
      "Saving image number: 327\n",
      "Now preparing image and masks number: 328\n",
      "Saving image number: 328\n",
      "Now preparing image and masks number: 329\n",
      "Saving image number: 329\n",
      "Now preparing image and masks number: 330\n",
      "Saving image number: 330\n",
      "Now preparing image and masks number: 331\n",
      "Saving image number: 331\n",
      "Now preparing image and masks number: 332\n",
      "Saving image number: 332\n",
      "Now preparing image and masks number: 333\n",
      "Saving image number: 333\n",
      "Now preparing image and masks number: 334\n",
      "Saving image number: 334\n",
      "Now preparing image and masks number: 335\n",
      "Saving image number: 335\n",
      "Now preparing image and masks number: 336\n",
      "Saving image number: 336\n",
      "Now preparing image and masks number: 337\n",
      "Saving image number: 337\n",
      "Now preparing image and masks number: 338\n",
      "Saving image number: 338\n",
      "Now preparing image and masks number: 339\n",
      "Saving image number: 339\n",
      "Now preparing image and masks number: 340\n",
      "I am useless\n",
      "Now preparing image and masks number: 341\n",
      "Saving image number: 341\n",
      "Now preparing image and masks number: 342\n",
      "Saving image number: 342\n",
      "Now preparing image and masks number: 343\n",
      "Saving image number: 343\n",
      "Now preparing image and masks number: 344\n",
      "Saving image number: 344\n",
      "Now preparing image and masks number: 345\n",
      "Saving image number: 345\n",
      "Now preparing image and masks number: 346\n",
      "Saving image number: 346\n",
      "Now preparing image and masks number: 347\n",
      "Saving image number: 347\n",
      "Now preparing image and masks number: 348\n",
      "Saving image number: 348\n",
      "Now preparing image and masks number: 349\n",
      "Saving image number: 349\n",
      "Now preparing image and masks number: 350\n",
      "Saving image number: 350\n",
      "Now preparing image and masks number: 351\n",
      "Saving image number: 351\n",
      "Now preparing image and masks number: 352\n",
      "Saving image number: 352\n",
      "Now preparing image and masks number: 353\n",
      "Saving image number: 353\n",
      "Now preparing image and masks number: 354\n",
      "Saving image number: 354\n",
      "Now preparing image and masks number: 355\n",
      "Saving image number: 355\n",
      "Now preparing image and masks number: 356\n",
      "Saving image number: 356\n",
      "Now preparing image and masks number: 357\n",
      "Saving image number: 357\n",
      "Now preparing image and masks number: 358\n",
      "Saving image number: 358\n",
      "Now preparing image and masks number: 359\n",
      "Saving image number: 359\n",
      "Now preparing image and masks number: 360\n",
      "Saving image number: 360\n",
      "Now preparing image and masks number: 361\n",
      "Saving image number: 361\n",
      "Now preparing image and masks number: 362\n",
      "Saving image number: 362\n",
      "Now preparing image and masks number: 363\n",
      "Saving image number: 363\n",
      "Now preparing image and masks number: 364\n",
      "Saving image number: 364\n",
      "Now preparing image and masks number: 365\n",
      "Saving image number: 365\n",
      "Now preparing image and masks number: 366\n",
      "Saving image number: 366\n",
      "Now preparing image and masks number: 367\n",
      "Saving image number: 367\n",
      "Now preparing image and masks number: 368\n",
      "Saving image number: 368\n"
     ]
    }
   ],
   "source": [
    "for img in range(len(t2_list)):\n",
    "    print(f\"Now preparing image and masks number: {img}\")\n",
    "      \n",
    "    temp_image_t2 = nib.load(t2_list[img]).get_fdata()\n",
    "    temp_image_t2 = scaler.fit_transform(temp_image_t2.reshape(-1, temp_image_t2.shape[-1])).reshape(temp_image_t2.shape)\n",
    "   \n",
    "    temp_image_t1ce = nib.load(t1ce_list[img]).get_fdata()\n",
    "    temp_image_t1ce = scaler.fit_transform(temp_image_t1ce.reshape(-1, temp_image_t1ce.shape[-1])).reshape(temp_image_t1ce.shape)\n",
    "   \n",
    "    temp_image_flair = nib.load(flair_list[img]).get_fdata()\n",
    "    temp_image_flair = scaler.fit_transform(temp_image_flair.reshape(-1, temp_image_flair.shape[-1])).reshape(temp_image_flair.shape)\n",
    "        \n",
    "    temp_mask = nib.load(mask_list[img]).get_fdata()\n",
    "    temp_mask = temp_mask.astype(np.uint8)\n",
    "    temp_mask[temp_mask == 4] = 3  #Reassign mask values 4 to 3\n",
    "    \n",
    "    \n",
    "    temp_combined_images = np.stack([temp_image_flair, temp_image_t1ce, temp_image_t2], axis=3)\n",
    "\n",
    "    \"\"\"\n",
    "        crop to a size to be divisible by 64 so we can later extract 64x64x64 patches.\n",
    "        cropping x, y, and z\n",
    "    \"\"\" \n",
    "    temp_combined_images = temp_combined_images[56:184, 56:184, 13:141]\n",
    "    temp_mask = temp_mask[56:184, 56:184, 13:141]\n",
    "    \n",
    "    val, counts = np.unique(temp_mask, return_counts=True)\n",
    "    \n",
    "    if (1 - (counts[0]/counts.sum())) > 0.01:  #At least 1% useful volume with labels that are not 0\n",
    "        print(f\"Saving image number: {img}\")\n",
    "        temp_mask = to_categorical(temp_mask, num_classes=4)\n",
    "        np.save('BraTS2020_TrainingData/input_data_3channels/images/image_'+str(img)+'.npy', temp_combined_images)\n",
    "        np.save('BraTS2020_TrainingData/input_data_3channels/masks/mask_'+str(img)+'.npy', temp_mask)\n",
    "        \n",
    "    else:\n",
    "        print(\"I am useless\")"
   ]
  },
  {
   "cell_type": "code",
   "execution_count": 29,
   "id": "c8c15395",
   "metadata": {},
   "outputs": [],
   "source": [
    "import splitfolders"
   ]
  },
  {
   "cell_type": "code",
   "execution_count": 30,
   "id": "1ffa8154",
   "metadata": {},
   "outputs": [],
   "source": [
    "input_folder = 'BraTS2020_TrainingData/input_data_3channels/'\n",
    "output_folder = 'BraTS2020_TrainingData/input_data_128/'"
   ]
  },
  {
   "cell_type": "code",
   "execution_count": 31,
   "id": "bcb049b1",
   "metadata": {},
   "outputs": [],
   "source": [
    "splitfolders.ratio(input_folder, output=output_folder, seed=42, ratio=(.75, .25), group_prefix=None)"
   ]
  }
 ],
 "metadata": {
  "kernelspec": {
   "display_name": "Python 3 (ipykernel)",
   "language": "python",
   "name": "python3"
  },
  "language_info": {
   "codemirror_mode": {
    "name": "ipython",
    "version": 3
   },
   "file_extension": ".py",
   "mimetype": "text/x-python",
   "name": "python",
   "nbconvert_exporter": "python",
   "pygments_lexer": "ipython3",
   "version": "3.9.7"
  }
 },
 "nbformat": 4,
 "nbformat_minor": 5
}
